{
 "cells": [
  {
   "cell_type": "markdown",
   "metadata": {},
   "source": [
    "# Main Model for Handwritten Text Synthesis GAN\n",
    "\n",
    "This model will consist of 4 major networks, following the general architecture of an GAN.\n",
    "\n",
    "1. Encoder: Produces an embedding that will be concatenated with the noise vector.\n",
    "2. Generator: Taking noise vector as input and the text embedding to produce an 128x2048 image.\n",
    "3. Discriminator: Trained alternating with generator input and ground-truth input, binary classification real or fake.\n",
    "4. Recognizer: Taking image as input, produce a vector representation of the text."
   ]
  },
  {
   "cell_type": "markdown",
   "metadata": {},
   "source": [
    "Import the required libraries:"
   ]
  },
  {
   "cell_type": "code",
   "execution_count": null,
   "metadata": {},
   "outputs": [],
   "source": [
    "import torch\n",
    "import torch.nn as nn\n",
    "import torch.nn.functional as F\n",
    "import torch.optim as optim\n",
    "import numpy as np\n",
    "import matplotlib.pyplot as plt"
   ]
  },
  {
   "cell_type": "markdown",
   "metadata": {},
   "source": [
    "Define Key Functions"
   ]
  },
  {
   "cell_type": "code",
   "execution_count": null,
   "metadata": {},
   "outputs": [],
   "source": [
    "\"\"\"Dataloading Functions\"\"\"\n",
    "\"\"\"Noise Functions\"\"\"\n",
    "\"\"\"Training Functions\"\"\"\n",
    "\"\"\"Evaluation Functions\"\"\"\n",
    "\"\"\"Plotting Functions\"\"\""
   ]
  },
  {
   "cell_type": "markdown",
   "metadata": {},
   "source": [
    "Define Network Classes"
   ]
  },
  {
   "cell_type": "code",
   "execution_count": null,
   "metadata": {},
   "outputs": [],
   "source": [
    "class Encoder(nn.Module):\n",
    "    \"\"\"\n",
    "    RNN\n",
    "    Input with a vector representation of an ascii text\n",
    "    Output a vector embedding of the text\n",
    "    Purpose is to produce an embedding of the text that includes the relationship between the characters\n",
    "    \"\"\"\n",
    "    pass\n",
    "\n",
    "class Generator(nn.Module):\n",
    "    \"\"\"\n",
    "    Transposed CNN\n",
    "    Input with a vector embedding of the text and a noise vector\n",
    "    Output a 128 x 2048 grayscale image\n",
    "    Purpose is to produce an image that is a representation of the text, with the noise vector adding some variation\n",
    "    \"\"\"\n",
    "    pass\n",
    "\n",
    "class Discriminator(nn.Module):\n",
    "    \"\"\"\n",
    "    CNN\n",
    "    Input with a 128 x 2048 grayscale image\n",
    "    Output a probability that the image is real and not generated\n",
    "    Purpose is to determine if the image is real or generated, to encourage the generator to produce realistic images\n",
    "    \"\"\"\n",
    "    pass\n",
    "\n",
    "class Recognizer(nn.Module):\n",
    "    \"\"\"\n",
    "    RNN\n",
    "    Input with a 128 x 2048 grayscale image\n",
    "    Output a vector representation of the text\n",
    "    Purpose is to recognize the text from the image, to encourage the generator to produce images that are representations of the text\n",
    "    \"\"\"\n",
    "    pass"
   ]
  },
  {
   "cell_type": "markdown",
   "metadata": {},
   "source": [
    "## Significant Hyperparameters to Tune\n",
    "- Dimension of text embedding, we can start with 512 and increase it later on.\n",
    "- Dataset of training. If the model does not converge, it is likely we will have to manually select example images that have similar writing style.\n",
    "- Learning rate\n",
    "- Balancing the effect of recognizer and discriminator\n"
   ]
  }
 ],
 "metadata": {
  "kernelspec": {
   "display_name": "AnacondaPyCharm3_10",
   "language": "python",
   "name": "python3"
  },
  "language_info": {
   "codemirror_mode": {
    "name": "ipython",
    "version": 3
   },
   "file_extension": ".py",
   "mimetype": "text/x-python",
   "name": "python",
   "nbconvert_exporter": "python",
   "pygments_lexer": "ipython3",
   "version": "3.10.4"
  },
  "orig_nbformat": 4
 },
 "nbformat": 4,
 "nbformat_minor": 2
}
