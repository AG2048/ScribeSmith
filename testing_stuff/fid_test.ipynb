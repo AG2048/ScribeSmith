{
 "cells": [
  {
   "cell_type": "code",
   "execution_count": 1,
   "metadata": {},
   "outputs": [],
   "source": [
    "import os\n",
    "import re\n",
    "import csv\n",
    "import datetime\n",
    "\n",
    "import torch\n",
    "import matplotlib.pyplot as plt\n",
    "import numpy as np\n",
    "import pandas as pd\n",
    "import torch.nn as nn\n",
    "import torch.nn.functional as F\n",
    "import cv2 as cv\n",
    "\n",
    "from torch.nn.utils.spectral_norm import spectral_norm\n",
    "\n",
    "import torch.optim as optim\n",
    "\n",
    "from torchvision import datasets\n",
    "from torch.utils.data import Dataset, DataLoader, random_split, RandomSampler, Subset\n",
    "from torchvision.io import read_image\n",
    "from torchvision.transforms import Grayscale, Resize, InterpolationMode\n",
    "\n",
    "from torchmetrics.image.fid import FrechetInceptionDistance\n",
    "import torch_fidelity\n",
    "import random\n"
   ]
  },
  {
   "cell_type": "code",
   "execution_count": 2,
   "metadata": {},
   "outputs": [
    {
     "name": "stdout",
     "output_type": "stream",
     "text": [
      "# samples: 11073\n",
      "Valid samples: 7135\n"
     ]
    }
   ],
   "source": [
    "\n",
    "def preprocess_lines(data_root):\n",
    "    \"\"\"\n",
    "    Creates a new `.txt` file `lines_improved.txt` that will be used\n",
    "    for querying\n",
    "    \"\"\"\n",
    "    original_path = os.path.join(data_root, \"lines.txt\")\n",
    "    improved_path = os.path.join(data_root, \"lines_improved.txt\")\n",
    "    fi = open(improved_path, \"w\")\n",
    "\n",
    "    # Some variables for tracking\n",
    "    num_samples = 0\n",
    "    valid_samples = 0\n",
    "    \n",
    "    # Loop through \"lines.txt\"\n",
    "    with open(original_path, \"r\") as fo:\n",
    "        # TODO replace imag_path with the .pt file later on\n",
    "        headers = [\"image_id\", \"image_path\", \"image_pt_path\", \"graylevel\", \"original_height\", \"original_width\", \"transcription\", \"transcription_len\"]\n",
    "        fi.writelines(\"\\t\".join(headers) + \"\\n\")\n",
    "\n",
    "        # Skip the intro stuff\n",
    "        for line in fo.readlines():\n",
    "            if line.startswith(\"#\"):\n",
    "                continue\n",
    "\n",
    "            # Valid lines, not the intro_text\n",
    "            line_items = line.strip().split(\" \")  # `strip()` to remove newlines\n",
    "\n",
    "            # The actua items (we extract the important ones)\n",
    "            image_id = line_items[0]\n",
    "            status = line_items[1]\n",
    "            graylevel = int(line_items[2])\n",
    "            transcription = \" \".join(line_items[8:])  # Some data has whitespace\n",
    "\n",
    "            # Skip error images\n",
    "            if status == \"err\":\n",
    "                continue\n",
    "        \n",
    "            # Alphanumeric + common punctuation regex\n",
    "            # Returns None if no match\n",
    "            # 26 + 26 + 10 + 9 + 1 = 72\n",
    "            # Spaces might be included as well\n",
    "            if re.fullmatch(\"[a-zA-Z0-9.!?'\\\",:;| -]*\", transcription) is None:\n",
    "                continue\n",
    "\n",
    "            # Now we have valid transcription\n",
    "            # We get the `.png` image path\n",
    "            inp = image_id.split(\"-\")  # `inp` stands for image name parts\n",
    "            image_path_head = os.path.join(data_root, \"lines\", inp[0], f\"{inp[0]}-{inp[1]}\")\n",
    "            image_path_tail = f\"{image_id}.png\"\n",
    "            image_path = os.path.join(image_path_head, image_path_tail)\n",
    "            num_samples += 1\n",
    "            tmp_image = read_image(os.path.join(image_path_head, image_path_tail))  # Temporarily reading to get dimensions\n",
    "            _, height, width = tmp_image.shape\n",
    "\n",
    "            # Scaling calculations\n",
    "            # If width * scale >= desired length (>= to be safe)\n",
    "            if width * (32/height) >= 512:\n",
    "                continue\n",
    "\n",
    "            resized_tensor = process_image_tensor(tmp_image, graylevel)\n",
    "            image_pt_path = os.path.join(image_path_head, f\"{image_id}.pt\")\n",
    "            torch.save(resized_tensor, image_pt_path)\n",
    "\n",
    "            # A fully valid image\n",
    "            # Separate by underscores because `transcription` has spaces so we can't split by spaces\n",
    "            fi.writelines(f\"{image_id}\\t{image_path}\\t{image_pt_path}\\t{graylevel}\\t{height}\\t{width}\\t{transcription}\\t{len(transcription)}\\n\")\n",
    "            valid_samples += 1\n",
    "        \n",
    "        fi.close()\n",
    "    \n",
    "    print(\"# samples:\", num_samples)\n",
    "    print(\"Valid samples:\", valid_samples)\n",
    "\n",
    "\n",
    "def process_image_tensor(image_tensor, graylevel):\n",
    "    \"\"\"\n",
    "    Returns a copy of image_tensor, processed (doesn't update the original variable)\n",
    "    \"\"\"\n",
    "\n",
    "    # Grayscale the image - if the image is not already in grayscale\n",
    "    grayscale_transform = Grayscale()\n",
    "    image_tensor = grayscale_transform(image_tensor)\n",
    "\n",
    "    # Resize it\n",
    "    resize_transform = Resize(32, InterpolationMode.NEAREST_EXACT)\n",
    "    image_tensor = resize_transform(image_tensor)\n",
    "\n",
    "    # Threshold it\n",
    "    # Threshold first because threshold was specifically specified for the original\n",
    "    image_tensor = image_tensor >= graylevel\n",
    "\n",
    "    # Add padding\n",
    "    _,_, resized_height = image_tensor.shape\n",
    "    padding_to_add = 512 - resized_height\n",
    "    image_tensor = F.pad(image_tensor, (0, padding_to_add), value=1)\n",
    "\n",
    "    # Convert to uint8\n",
    "    image_tensor = image_tensor.type(torch.float32)\n",
    "\n",
    "    return image_tensor\n",
    "\n",
    "# Uncomment this if your data isn't processed yet\n",
    "preprocess_lines(\"./data/\")"
   ]
  },
  {
   "cell_type": "code",
   "execution_count": 3,
   "metadata": {},
   "outputs": [],
   "source": [
    "# Sorted by ascii code\n",
    "valid = [\n",
    "    ' ', '!', '\"', \"'\", ',', '-', '.',\n",
    "    '0', '1', '2', '3', '4', '5', '6', '7', '8', '9', \n",
    "    ':', ';', '?', \n",
    "    'A', 'B', 'C', 'D', 'E', 'F', 'G', 'H', 'I', 'J', 'K', 'L', 'M', 'N', 'O', 'P', 'Q', 'R', 'S', 'T', 'U', 'V', 'W', 'X', 'Y', 'Z',\n",
    "    'a', 'b', 'c', 'd', 'e', 'f', 'g', 'h', 'i', 'j', 'k', 'l', 'm', 'n', 'o', 'p', 'q', 'r', 's', 't', 'u', 'v', 'w', 'x', 'y', 'z'\n",
    "]\n",
    "# Enumerate from 1 to save space for padding\n",
    "char_to_int = {v: i for i, v in enumerate(valid, 1)}\n",
    "int_to_char = {i: v for i, v in enumerate(valid, 1)}"
   ]
  },
  {
   "cell_type": "code",
   "execution_count": 5,
   "metadata": {},
   "outputs": [],
   "source": [
    "class LineDataset(Dataset):\n",
    "    def __init__(self, lines_improved_dir, ty=None):\n",
    "        \"\"\"\n",
    "        params:\n",
    "            lines_improved_dir: path to the `lines_improved.txt` file\n",
    "            ty: type of the dataset \"txt\", \"img\" for text dataset or image dataset.\n",
    "        \"\"\"\n",
    "        self.lines_df = pd.read_csv(lines_improved_dir, sep=\"\\t\", quoting=csv.QUOTE_NONE)  # List containing the stuff in `lines.txt`\n",
    "        length = self.lines_df.shape[0]\n",
    "        self.max_transcription_len = max(self.lines_df[\"transcription_len\"])\n",
    "        self.ty = ty\n",
    "        line_datas = self.lines_df.iloc\n",
    "        ret_texts = [line_datas[i]['transcription'].replace('|', ' ') for i in range(length)]\n",
    "        ret_ctois = [torch.tensor([char_to_int[char] for char in ret_texts[i]]) for i in range(length)]\n",
    "        self.ret_ctoi_paddeds = [F.pad(ret_ctois[i], pad=(0, self.max_transcription_len-len(ret_ctois[i]))) for i in range(length)]\n",
    "        self.ret_images = [torch.load(line_datas[i][\"image_pt_path\"]) for i in range(length)]\n",
    "    def __len__(self):\n",
    "        return len(self.lines_df)\n",
    "    \n",
    "    def __getitem__(self, index):\n",
    "        # line_data = self.lines_df.iloc[index]\n",
    "\n",
    "        # ret_text = line_data['transcription'].replace('|', ' ')\n",
    "        # # Get the numerical mapping\n",
    "        # ret_ctoi = torch.tensor([char_to_int[char] for char in ret_text])\n",
    "        # # Padding to the left amount to make it reach `max_transcription_len`\n",
    "        # # TODO possibility to remove padding in the future and let a dataloader handle it\n",
    "        # ret_ctoi_padded = F.pad(ret_ctoi, pad=(0, self.max_transcription_len-len(ret_ctoi)))\n",
    "        # ret_image = torch.load(line_data[\"image_pt_path\"])\n",
    "\n",
    "        # Different type of individual loaders\n",
    "        if self.ty == \"txt\":\n",
    "            return self.ret_ctoi_paddeds[index]\n",
    "        elif self.ty == \"img\":\n",
    "            return self.ret_images[index]\n",
    "        else:\n",
    "            return self.ret_images[index], self.ret_ctoi_paddeds[index]"
   ]
  },
  {
   "cell_type": "code",
   "execution_count": 64,
   "metadata": {},
   "outputs": [
    {
     "name": "stdout",
     "output_type": "stream",
     "text": [
      "lines\n",
      "100 20\n",
      "images\n",
      "1000 20\n",
      "both\n",
      "5708 1427\n"
     ]
    }
   ],
   "source": [
    "line_transcription_dataset = LineDataset(\"./data/lines_improved.txt\", ty=\"txt\")\n",
    "line_image_dataset = LineDataset(\"./data/lines_improved.txt\", ty=\"img\")\n",
    "line_dataset = LineDataset(\"./data/lines_improved.txt\")\n",
    "\n",
    "# Don't change this, we want to maintain consistent split\n",
    "torch.manual_seed(12345678)  # DO NOT REMOVE THIS LINE\n",
    "line_transcription_dataset_train, line_transcription_dataset_val = random_split(line_transcription_dataset, [0.8, 0.2])\n",
    "line_image_dataset_train, line_image_dataset_val = random_split(line_image_dataset, [0.8, 0.2])\n",
    "line_dataset_train, line_dataset_val = random_split(line_dataset, [0.8, 0.2])\n",
    "\n",
    "# To train on a small dataset\n",
    "line_transcription_dataset_train = Subset(line_transcription_dataset_train, range(100))\n",
    "line_transcription_dataset_val = Subset(line_transcription_dataset_val, range(20))\n",
    "\n",
    "line_image_dataset_train = Subset(line_image_dataset_train, range(1000))\n",
    "line_image_dataset_val = Subset(line_image_dataset_val, range(20))\n",
    "\n",
    "# line_transcription_dataset_train, line_transcription_dataset_val, _ = random_split(line_transcription_dataset, [0.005, 0.005, 0.99])\n",
    "# line_image_dataset_train, line_image_dataset_val, _ = random_split(line_image_dataset, [0.005, 0.005, 0.99])\n",
    "# line_dataset_train, line_dataset_val = random_split(line_dataset, [0.0025, 0.9975])\n",
    "\n",
    "print(\"lines\")\n",
    "print(len(line_transcription_dataset_train), len(line_transcription_dataset_val))\n",
    "print(\"images\")\n",
    "print(len(line_image_dataset_train), len(line_image_dataset_val))\n",
    "print(\"both\")\n",
    "print(len(line_dataset_train), len(line_dataset_val))"
   ]
  },
  {
   "cell_type": "code",
   "execution_count": 7,
   "metadata": {},
   "outputs": [],
   "source": [
    "a = iter(line_image_dataset_train)\n",
    "import pytesseract\n",
    "import numpy as np\n",
    "from PIL import Image\n",
    "import torchvision.transforms as T\n",
    "itransform = T.ToPILImage()"
   ]
  },
  {
   "cell_type": "code",
   "execution_count": 8,
   "metadata": {},
   "outputs": [
    {
     "data": {
      "text/plain": [
       "<matplotlib.image.AxesImage at 0x7fe30cff0640>"
      ]
     },
     "execution_count": 8,
     "metadata": {},
     "output_type": "execute_result"
    },
    {
     "data": {
      "image/png": "[encoded data removed]",
      "text/plain": [
       "<Figure size 640x480 with 1 Axes>"
      ]
     },
     "metadata": {},
     "output_type": "display_data"
    }
   ],
   "source": [
    "plt.figure()\n",
    "img = itransform(next(a).squeeze(0))\n",
    "plt.imshow(img, cmap=\"gray\")"
   ]
  },
  {
   "cell_type": "code",
   "execution_count": 49,
   "metadata": {},
   "outputs": [
    {
     "data": {
      "text/plain": [
       "device(type='cuda')"
      ]
     },
     "execution_count": 49,
     "metadata": {},
     "output_type": "execute_result"
    }
   ],
   "source": [
    "device = torch.device(\"cuda\" if torch.cuda.is_available() else \"cpu\")\n",
    "fid = FrechetInceptionDistance(feature=2048)\n",
    "fid.to(device)\n",
    "device"
   ]
  },
  {
   "cell_type": "code",
   "execution_count": 48,
   "metadata": {},
   "outputs": [
    {
     "data": {
      "text/plain": [
       "20"
      ]
     },
     "execution_count": 48,
     "metadata": {},
     "output_type": "execute_result"
    }
   ],
   "source": [
    "len(line_image_dataset_val)"
   ]
  },
  {
   "cell_type": "code",
   "execution_count": 65,
   "metadata": {},
   "outputs": [
    {
     "name": "stdout",
     "output_type": "stream",
     "text": [
      "torch.Size([20, 1, 32, 512])\n",
      "torch.Size([20, 1, 32, 512])\n",
      "torch.Size([20, 1, 32, 512])\n",
      "torch.Size([20, 1, 32, 512])\n",
      "torch.Size([20, 1, 32, 512])\n",
      "torch.Size([20, 1, 32, 512])\n",
      "torch.Size([20, 1, 32, 512])\n",
      "torch.Size([20, 1, 32, 512])\n",
      "torch.Size([20, 1, 32, 512])\n",
      "torch.Size([20, 1, 32, 512])\n",
      "torch.Size([20, 1, 32, 512])\n",
      "torch.Size([20, 1, 32, 512])\n",
      "torch.Size([20, 1, 32, 512])\n",
      "torch.Size([20, 1, 32, 512])\n",
      "torch.Size([20, 1, 32, 512])\n",
      "torch.Size([20, 1, 32, 512])\n",
      "torch.Size([20, 1, 32, 512])\n",
      "torch.Size([20, 1, 32, 512])\n",
      "torch.Size([20, 1, 32, 512])\n",
      "torch.Size([20, 1, 32, 512])\n",
      "torch.Size([20, 1, 32, 512])\n",
      "torch.Size([20, 1, 32, 512])\n",
      "torch.Size([20, 1, 32, 512])\n",
      "torch.Size([20, 1, 32, 512])\n",
      "torch.Size([20, 1, 32, 512])\n",
      "torch.Size([20, 1, 32, 512])\n",
      "torch.Size([20, 1, 32, 512])\n",
      "torch.Size([20, 1, 32, 512])\n",
      "torch.Size([20, 1, 32, 512])\n",
      "torch.Size([20, 1, 32, 512])\n",
      "torch.Size([20, 1, 32, 512])\n",
      "torch.Size([20, 1, 32, 512])\n",
      "torch.Size([20, 1, 32, 512])\n",
      "torch.Size([20, 1, 32, 512])\n",
      "torch.Size([20, 1, 32, 512])\n",
      "torch.Size([20, 1, 32, 512])\n",
      "torch.Size([20, 1, 32, 512])\n",
      "torch.Size([20, 1, 32, 512])\n",
      "torch.Size([20, 1, 32, 512])\n",
      "torch.Size([20, 1, 32, 512])\n",
      "torch.Size([20, 1, 32, 512])\n",
      "torch.Size([20, 1, 32, 512])\n",
      "torch.Size([20, 1, 32, 512])\n",
      "torch.Size([20, 1, 32, 512])\n",
      "torch.Size([20, 1, 32, 512])\n",
      "torch.Size([20, 1, 32, 512])\n",
      "torch.Size([20, 1, 32, 512])\n",
      "torch.Size([20, 1, 32, 512])\n",
      "torch.Size([20, 1, 32, 512])\n",
      "torch.Size([20, 1, 32, 512])\n",
      "tensor(157.6595, device='cuda:0')\n"
     ]
    }
   ],
   "source": [
    "test_loader1 = DataLoader(line_image_dataset_train, batch_size=20, shuffle=True)\n",
    "test_loader2 = DataLoader(line_image_dataset_val, batch_size=20, shuffle=True)\n",
    "# ii = next(iter(test_loader2))\n",
    "ii = torch.load(\"./h\")\n",
    "# print(type(ii))\n",
    "# print(ii[0])\n",
    "a = 0\n",
    "# print(ii.shape)\n",
    "for iii, i in enumerate(test_loader1, start=1):\n",
    "    # print(torch.isinf((i.cpu()*255).to(torch.uint8).repeat(1, 3, 1, 1)).any())\n",
    "    print(i.shape)\n",
    "    fid.update((i*255).to(torch.uint8).repeat(1, 3, 1, 1).to(device), real=True)\n",
    "    # fid.update((ii.cpu()*255).to(torch.uint8).repeat(1, 3, 1, 1).to(device), real=False)\n",
    "    fid.update((ii).to(torch.uint8).repeat(1, 3, 1, 1).to(device), real=False)\n",
    "        \n",
    "    f = fid.compute()\n",
    "    a += f\n",
    "    fid.reset()\n",
    "print(a/iii)"
   ]
  }
 ],
 "metadata": {
  "kernelspec": {
   "display_name": "aps360_py39",
   "language": "python",
   "name": "python3"
  },
  "language_info": {
   "codemirror_mode": {
    "name": "ipython",
    "version": 3
   },
   "file_extension": ".py",
   "mimetype": "text/x-python",
   "name": "python",
   "nbconvert_exporter": "python",
   "pygments_lexer": "ipython3",
   "version": "3.9.17"
  },
  "orig_nbformat": 4
 },
 "nbformat": 4,
 "nbformat_minor": 2
}
