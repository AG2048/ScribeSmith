{
 "cells": [
  {
   "attachments": {},
   "cell_type": "markdown",
   "metadata": {},
   "source": [
    "# Baseline Model for Handwritten Text Synthesis"
   ]
  },
  {
   "cell_type": "code",
   "execution_count": 1,
   "metadata": {},
   "outputs": [],
   "source": [
    "import os\n",
    "from PIL import Image\n",
    "import numpy as np\n",
    "import glob\n",
    "import random\n",
    "import matplotlib.pyplot as plt\n",
    "\n",
    "import csv\n",
    "import datetime\n",
    "import os\n",
    "import random\n",
    "import re\n",
    "import requests\n",
    "\n",
    "import cv2 as cv\n",
    "import matplotlib.pyplot as plt\n",
    "import numpy as np\n",
    "import pandas as pd\n",
    "import torch\n",
    "import torch_fidelity\n",
    "import torch.nn as nn\n",
    "import torch.nn.functional as F\n",
    "import torch.optim as optim\n",
    "\n",
    "from PIL import Image\n",
    "from torch.nn.utils.spectral_norm import spectral_norm\n",
    "from torch.utils.data import DataLoader, Dataset, RandomSampler, Subset, random_split\n",
    "from torchmetrics.image.fid import FrechetInceptionDistance\n",
    "from torchvision import datasets\n",
    "from torchvision.io import read_image\n",
    "from torchvision.transforms import Grayscale, Resize, ToTensor, ToPILImage\n",
    "from torchvision.transforms.functional import InterpolationMode\n",
    "from transformers import TrOCRProcessor, VisionEncoderDecoderModel\n",
    "\n",
    "import pytesseract\n",
    "\n",
    "random.seed(42)\n",
    "\n",
    "DATA_DIR = \"data\"\n",
    "CHARS_DIR = os.path.join(DATA_DIR, \"chars\")\n",
    "OUT_IMG_WIDTH = 512\n",
    "OUT_IMG_HEIGHT = 32\n",
    "\n",
    "# Sorted by ascii code\n",
    "valid_chars = [\n",
    "    ' ', '!', '\"', \"'\", ',', '-', '.',\n",
    "    '0', '1', '2', '3', '4', '5', '6', '7', '8', '9', \n",
    "    ':', ';', '?', \n",
    "    'A', 'B', 'C', 'D', 'E', 'F', 'G', 'H', 'I', 'J', 'K', 'L', 'M', 'N', 'O', 'P', 'Q', 'R', 'S', 'T', 'U', 'V', 'W', 'X', 'Y', 'Z',\n",
    "    'a', 'b', 'c', 'd', 'e', 'f', 'g', 'h', 'i', 'j', 'k', 'l', 'm', 'n', 'o', 'p', 'q', 'r', 's', 't', 'u', 'v', 'w', 'x', 'y', 'z'\n",
    "]\n",
    "# Enumerate from 1 to save space for padding\n",
    "char_to_int = {v: i for i, v in enumerate(valid_chars, 1)}\n",
    "int_to_char = {i: v for i, v in enumerate(valid_chars, 1)}\n"
   ]
  },
  {
   "attachments": {},
   "cell_type": "markdown",
   "metadata": {},
   "source": [
    "## Data Processing"
   ]
  },
  {
   "cell_type": "code",
   "execution_count": 2,
   "metadata": {},
   "outputs": [],
   "source": [
    "def get_char_filenames(char, extension=\"\"):\n",
    "    char_id = str(char_to_int[char]).zfill(2)\n",
    "    filenames = glob.glob(os.path.join(CHARS_DIR, char_id, f\"{char_id}-*{extension}\"))\n",
    "    return filenames\n"
   ]
  },
  {
   "cell_type": "code",
   "execution_count": 3,
   "metadata": {},
   "outputs": [],
   "source": [
    "def process_img(img, new_height=OUT_IMG_HEIGHT, threshold=230):\n",
    "    # Scale image\n",
    "    width, height = img.size\n",
    "    new_width = int((new_height / height) * width)\n",
    "    scaled_img = img.resize((new_width, new_height), resample=Image.LANCZOS)\n",
    "\n",
    "    # Binarize image\n",
    "    img_arr = np.array(scaled_img.convert(\"L\"), dtype=np.uint8)\n",
    "    bin_img = np.where(img_arr > threshold, 255, 0)\n",
    "\n",
    "    # Crop horizontal padding\n",
    "    non_empty_columns = np.where(bin_img.max(axis=0) > 0)[0]\n",
    "    return bin_img[:, min(non_empty_columns) : max(non_empty_columns) + 1]\n",
    "\n",
    "\n",
    "def process_char_img(filename):\n",
    "    img = Image.open(filename + \".png\")\n",
    "    img = process_img(img)\n",
    "    np.save(filename + \".npy\", img)  # Save as a numpy array\n"
   ]
  },
  {
   "cell_type": "code",
   "execution_count": 4,
   "metadata": {},
   "outputs": [
    {
     "name": "stderr",
     "output_type": "stream",
     "text": [
      "/var/folders/px/j11rmp_n6gl97rjc2kh1mk8m0000gn/T/ipykernel_50723/3453809907.py:5: DeprecationWarning: LANCZOS is deprecated and will be removed in Pillow 10 (2023-07-01). Use Resampling.LANCZOS instead.\n",
      "  scaled_img = img.resize((new_width, new_height), resample=Image.LANCZOS)\n"
     ]
    }
   ],
   "source": [
    "# Process every file\n",
    "for char in valid_chars:\n",
    "    for filename in get_char_filenames(char, \".png\"):\n",
    "        filename = filename[:-4]  # Remove file extension\n",
    "        process_char_img(filename)\n"
   ]
  },
  {
   "attachments": {},
   "cell_type": "markdown",
   "metadata": {},
   "source": [
    "## Generate Handwriting"
   ]
  },
  {
   "cell_type": "code",
   "execution_count": 5,
   "metadata": {},
   "outputs": [],
   "source": [
    "def get_rand_img_arr(char):\n",
    "    filenames = get_char_filenames(char, \".npy\")\n",
    "    rand_img = np.load(random.choice(filenames))\n",
    "    return rand_img\n",
    "\n",
    "\n",
    "def gen_hand_text(text):\n",
    "    chars = list(text)\n",
    "\n",
    "    # Initialize a white array of size 1x128x2048\n",
    "    res_array = np.full((OUT_IMG_HEIGHT, OUT_IMG_WIDTH), 255, dtype=np.uint8)\n",
    "\n",
    "    x_offset = 0\n",
    "    for char in chars:\n",
    "        if char == \" \":\n",
    "            # Add random spacing between words\n",
    "            space_width = random.randint(50, 60)\n",
    "            if x_offset + space_width <= OUT_IMG_WIDTH:\n",
    "                x_offset += space_width\n",
    "        else:\n",
    "            char_array = get_rand_img_arr(char)\n",
    "            if x_offset + char_array.shape[1] <= OUT_IMG_WIDTH:\n",
    "                res_array[:, x_offset : x_offset + char_array.shape[1]] = char_array\n",
    "                x_offset += char_array.shape[1]\n",
    "                # Add random spacing between letters\n",
    "                space_width = random.randint(5, 8)\n",
    "                if x_offset + space_width <= OUT_IMG_WIDTH:\n",
    "                    x_offset += space_width\n",
    "\n",
    "    return res_array\n",
    "\n",
    "\n",
    "def gen_hand_lines(lines):\n",
    "    # Initialize an empty list to store arrays\n",
    "    arrays = []\n",
    "    for line in lines:\n",
    "        array = gen_hand_text(line)\n",
    "        arrays.append(array)\n",
    "    # Stack arrays along the first axis\n",
    "    result = np.stack(arrays, axis=0)\n",
    "    # Reshape to Nx1x128x2048\n",
    "    result = result.reshape(len(lines), 1, OUT_IMG_HEIGHT, OUT_IMG_WIDTH)\n",
    "    return result\n"
   ]
  },
  {
   "cell_type": "code",
   "execution_count": 111,
   "metadata": {},
   "outputs": [],
   "source": [
    "def disp_imgs(imgs):\n",
    "    for i, img in enumerate(imgs):\n",
    "        plt.figure(i)\n",
    "        plt.imshow(img[0], cmap=\"gray\")\n",
    "        # plt.axis(\"off\")\n",
    "    plt.show()\n"
   ]
  },
  {
   "cell_type": "code",
   "execution_count": 114,
   "metadata": {},
   "outputs": [
    {
     "data": {
      "image/png": "[encoded data removed]",
      "text/plain": [
       "<Figure size 640x480 with 1 Axes>"
      ]
     },
     "metadata": {},
     "output_type": "display_data"
    },
    {
     "name": "stdout",
     "output_type": "stream",
     "text": [
      "Mia ry tad & i € fame \n",
      "\n"
     ]
    },
    {
     "ename": "KeyError",
     "evalue": "'&'",
     "output_type": "error",
     "traceback": [
      "\u001b[0;31m---------------------------------------------------------------------------\u001b[0m",
      "\u001b[0;31mKeyError\u001b[0m                                  Traceback (most recent call last)",
      "Cell \u001b[0;32mIn[114], line 21\u001b[0m\n\u001b[1;32m     17\u001b[0m         embedding \u001b[39m=\u001b[39m torch\u001b[39m.\u001b[39mFloatTensor(vec_rep)\n\u001b[1;32m     19\u001b[0m         \u001b[39mreturn\u001b[39;00m embedding\n\u001b[0;32m---> 21\u001b[0m \u001b[39mprint\u001b[39m(Recognizer_Py(np\u001b[39m.\u001b[39;49msqueeze(imgs)))\n",
      "Cell \u001b[0;32mIn[114], line 16\u001b[0m, in \u001b[0;36mRecognizer_Py\u001b[0;34m(img)\u001b[0m\n\u001b[1;32m     11\u001b[0m string_rep \u001b[39m=\u001b[39m string_rep\u001b[39m.\u001b[39mreplace(\u001b[39m'\u001b[39m\u001b[39m\\n\u001b[39;00m\u001b[39m'\u001b[39m, \u001b[39m'\u001b[39m\u001b[39m'\u001b[39m)\n\u001b[1;32m     13\u001b[0m \u001b[39mprint\u001b[39m(string_rep, \u001b[39m\"\u001b[39m\u001b[39m\\n\u001b[39;00m\u001b[39m\"\u001b[39m)\n\u001b[0;32m---> 16\u001b[0m vec_rep \u001b[39m=\u001b[39m [char_to_int[i] \u001b[39mfor\u001b[39;00m i \u001b[39min\u001b[39;00m string_rep]\n\u001b[1;32m     17\u001b[0m embedding \u001b[39m=\u001b[39m torch\u001b[39m.\u001b[39mFloatTensor(vec_rep)\n\u001b[1;32m     19\u001b[0m \u001b[39mreturn\u001b[39;00m embedding\n",
      "Cell \u001b[0;32mIn[114], line 16\u001b[0m, in \u001b[0;36m<listcomp>\u001b[0;34m(.0)\u001b[0m\n\u001b[1;32m     11\u001b[0m string_rep \u001b[39m=\u001b[39m string_rep\u001b[39m.\u001b[39mreplace(\u001b[39m'\u001b[39m\u001b[39m\\n\u001b[39;00m\u001b[39m'\u001b[39m, \u001b[39m'\u001b[39m\u001b[39m'\u001b[39m)\n\u001b[1;32m     13\u001b[0m \u001b[39mprint\u001b[39m(string_rep, \u001b[39m\"\u001b[39m\u001b[39m\\n\u001b[39;00m\u001b[39m\"\u001b[39m)\n\u001b[0;32m---> 16\u001b[0m vec_rep \u001b[39m=\u001b[39m [char_to_int[i] \u001b[39mfor\u001b[39;00m i \u001b[39min\u001b[39;00m string_rep]\n\u001b[1;32m     17\u001b[0m embedding \u001b[39m=\u001b[39m torch\u001b[39m.\u001b[39mFloatTensor(vec_rep)\n\u001b[1;32m     19\u001b[0m \u001b[39mreturn\u001b[39;00m embedding\n",
      "\u001b[0;31mKeyError\u001b[0m: '&'"
     ]
    }
   ],
   "source": [
    "#lines = [\"Hello World,\", \"this is the baseline model!\", \"2 x 2 : 4\"]\n",
    "lines = [\"mary had a little lamb\"]\n",
    "imgs = gen_hand_lines(lines)\n",
    "disp_imgs(imgs)\n",
    "\n",
    "def Recognizer_Py(img):\n",
    "        to_pil_image = ToPILImage()\n",
    "        img = to_pil_image(img)\n",
    "        \n",
    "        string_rep = pytesseract.image_to_string(img)\n",
    "        string_rep = string_rep.replace('\\n', '')\n",
    "        \n",
    "        print(string_rep, \"\\n\")\n",
    "                \n",
    "        \n",
    "        vec_rep = [char_to_int[i] for i in string_rep]\n",
    "        embedding = torch.FloatTensor(vec_rep)\n",
    "        \n",
    "        return embedding\n",
    "\n",
    "print(Recognizer_Py(np.squeeze(imgs)))\n"
   ]
  }
 ],
 "metadata": {
  "kernelspec": {
   "display_name": "AnacondaPyCharm3_10",
   "language": "python",
   "name": "python3"
  },
  "language_info": {
   "codemirror_mode": {
    "name": "ipython",
    "version": 3
   },
   "file_extension": ".py",
   "mimetype": "text/x-python",
   "name": "python",
   "nbconvert_exporter": "python",
   "pygments_lexer": "ipython3",
   "version": "3.10.7"
  },
  "orig_nbformat": 4
 },
 "nbformat": 4,
 "nbformat_minor": 2
}
