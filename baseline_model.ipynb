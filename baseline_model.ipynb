{
 "cells": [
  {
   "attachments": {},
   "cell_type": "markdown",
   "metadata": {},
   "source": [
    "# Baseline Model for Handwritten Text Synthesis"
   ]
  },
  {
   "cell_type": "code",
   "execution_count": 1,
   "metadata": {},
   "outputs": [],
   "source": [
    "import os\n",
    "from PIL import Image\n",
    "import numpy as np\n",
    "import glob\n",
    "import random\n",
    "import matplotlib.pyplot as plt\n",
    "\n",
    "random.seed(42)\n",
    "\n",
    "DATA_DIR = \"data\"\n",
    "CHARS_DIR = os.path.join(DATA_DIR, \"chars\")\n",
    "OUT_IMG_WIDTH = 2048\n",
    "OUT_IMG_HEIGHT = 128\n",
    "\n",
    "# Sorted by ascii code\n",
    "valid_chars = [\n",
    "    ' ', '!', '\"', \"'\", ',', '-', '.',\n",
    "    '0', '1', '2', '3', '4', '5', '6', '7', '8', '9', \n",
    "    ':', ';', '?', \n",
    "    'A', 'B', 'C', 'D', 'E', 'F', 'G', 'H', 'I', 'J', 'K', 'L', 'M', 'N', 'O', 'P', 'Q', 'R', 'S', 'T', 'U', 'V', 'W', 'X', 'Y', 'Z',\n",
    "    'a', 'b', 'c', 'd', 'e', 'f', 'g', 'h', 'i', 'j', 'k', 'l', 'm', 'n', 'o', 'p', 'q', 'r', 's', 't', 'u', 'v', 'w', 'x', 'y', 'z'\n",
    "]\n",
    "# Enumerate from 1 to save space for padding\n",
    "char_to_int = {v: i for i, v in enumerate(valid_chars, 1)}\n",
    "int_to_char = {i: v for i, v in enumerate(valid_chars, 1)}\n"
   ]
  },
  {
   "attachments": {},
   "cell_type": "markdown",
   "metadata": {},
   "source": [
    "## Data Processing"
   ]
  },
  {
   "cell_type": "code",
   "execution_count": 2,
   "metadata": {},
   "outputs": [],
   "source": [
    "def get_char_filenames(char, extension=\"\"):\n",
    "    char_id = str(char_to_int[char]).zfill(2)\n",
    "    filenames = glob.glob(os.path.join(CHARS_DIR, char_id, f\"{char_id}-*{extension}\"))\n",
    "    return filenames\n"
   ]
  },
  {
   "cell_type": "code",
   "execution_count": 3,
   "metadata": {},
   "outputs": [],
   "source": [
    "def process_img(img, new_height=OUT_IMG_HEIGHT, threshold=220):\n",
    "    # Scale image\n",
    "    width, height = img.size\n",
    "    new_width = int((new_height / height) * width)\n",
    "    scaled_img = img.resize((new_width, new_height), resample=Image.LANCZOS)\n",
    "\n",
    "    # Binarize image\n",
    "    img_arr = np.array(scaled_img.convert(\"L\"), dtype=np.uint8)\n",
    "    bin_img = np.where(img_arr > threshold, 255, 0)\n",
    "\n",
    "    # Crop horizontal padding\n",
    "    non_empty_columns = np.where(bin_img.max(axis=0) > 0)[0]\n",
    "    return bin_img[:, min(non_empty_columns) : max(non_empty_columns) + 1]\n",
    "\n",
    "\n",
    "def process_char_img(filename):\n",
    "    img = Image.open(filename + \".png\")\n",
    "    img = process_img(img)\n",
    "    np.save(filename + \".npy\", img)  # Save as a numpy array\n"
   ]
  },
  {
   "cell_type": "code",
   "execution_count": 4,
   "metadata": {},
   "outputs": [],
   "source": [
    "# Process every file\n",
    "for char in valid_chars:\n",
    "    for filename in get_char_filenames(char, \".png\"):\n",
    "        filename = filename[:-4]  # Remove file extension\n",
    "        process_char_img(filename)\n"
   ]
  },
  {
   "attachments": {},
   "cell_type": "markdown",
   "metadata": {},
   "source": [
    "## Generate Handwriting"
   ]
  },
  {
   "cell_type": "code",
   "execution_count": 5,
   "metadata": {},
   "outputs": [],
   "source": [
    "def get_rand_img_arr(char):\n",
    "    filenames = get_char_filenames(char, \".npy\")\n",
    "    rand_img = np.load(random.choice(filenames))\n",
    "    return rand_img\n",
    "\n",
    "\n",
    "def gen_hand_text(text):\n",
    "    chars = list(text)\n",
    "\n",
    "    # Initialize a white array of size 1x128x2048\n",
    "    res_array = np.full((OUT_IMG_HEIGHT, OUT_IMG_WIDTH), 255, dtype=np.uint8)\n",
    "\n",
    "    x_offset = 0\n",
    "    for char in chars:\n",
    "        if char == \" \":\n",
    "            # Add random spacing between words\n",
    "            space_width = random.randint(50, 60)\n",
    "            if x_offset + space_width <= OUT_IMG_WIDTH:\n",
    "                x_offset += space_width\n",
    "        else:\n",
    "            char_array = get_rand_img_arr(char)\n",
    "            if x_offset + char_array.shape[1] <= OUT_IMG_WIDTH:\n",
    "                res_array[:, x_offset : x_offset + char_array.shape[1]] = char_array\n",
    "                x_offset += char_array.shape[1]\n",
    "                # Add random spacing between letters\n",
    "                space_width = random.randint(5, 8)\n",
    "                if x_offset + space_width <= OUT_IMG_WIDTH:\n",
    "                    x_offset += space_width\n",
    "\n",
    "    return res_array\n",
    "\n",
    "\n",
    "def gen_hand_lines(lines):\n",
    "    # Initialize an empty list to store arrays\n",
    "    arrays = []\n",
    "    for line in lines:\n",
    "        array = gen_hand_text(line)\n",
    "        arrays.append(array)\n",
    "    # Stack arrays along the first axis\n",
    "    result = np.stack(arrays, axis=0)\n",
    "    # Reshape to Nx1x128x2048\n",
    "    result = result.reshape(len(lines), 1, OUT_IMG_HEIGHT, OUT_IMG_WIDTH)\n",
    "    return result\n"
   ]
  },
  {
   "cell_type": "code",
   "execution_count": 6,
   "metadata": {},
   "outputs": [],
   "source": [
    "def disp_imgs(imgs):\n",
    "    for i, img in enumerate(imgs):\n",
    "        plt.figure(i)\n",
    "        plt.imshow(img[0], cmap=\"gray\")\n",
    "        # plt.axis(\"off\")\n",
    "    plt.show()\n"
   ]
  },
  {
   "cell_type": "code",
   "execution_count": 7,
   "metadata": {},
   "outputs": [
    {
     "data": {
      "image/png": "[encoded data removed]",
      "text/plain": [
       "<Figure size 640x480 with 1 Axes>"
      ]
     },
     "metadata": {},
     "output_type": "display_data"
    },
    {
     "data": {
      "image/png": "[encoded data removed]",
      "text/plain": [
       "<Figure size 640x480 with 1 Axes>"
      ]
     },
     "metadata": {},
     "output_type": "display_data"
    },
    {
     "data": {
      "image/png": "[encoded data removed]",
      "text/plain": [
       "<Figure size 640x480 with 1 Axes>"
      ]
     },
     "metadata": {},
     "output_type": "display_data"
    }
   ],
   "source": [
    "lines = [\"Hello World,\", \"this is the baseline model!\", \"2 x 2 : 4\"]\n",
    "imgs = gen_hand_lines(lines)\n",
    "\n",
    "disp_imgs(imgs)\n"
   ]
  }
 ],
 "metadata": {
  "kernelspec": {
   "display_name": "AnacondaPyCharm3_10",
   "language": "python",
   "name": "python3"
  },
  "language_info": {
   "codemirror_mode": {
    "name": "ipython",
    "version": 3
   },
   "file_extension": ".py",
   "mimetype": "text/x-python",
   "name": "python",
   "nbconvert_exporter": "python",
   "pygments_lexer": "ipython3",
   "version": "3.11.1"
  },
  "orig_nbformat": 4
 },
 "nbformat": 4,
 "nbformat_minor": 2
}
