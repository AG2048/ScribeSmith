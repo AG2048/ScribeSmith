{
 "cells": [
  {
   "attachments": {},
   "cell_type": "markdown",
   "metadata": {},
   "source": [
    "# Baseline Model for Handwritten Text Synthesis"
   ]
  },
  {
   "cell_type": "code",
   "execution_count": 195,
   "metadata": {},
   "outputs": [],
   "source": [
    "from PIL import Image\n",
    "import os\n",
    "import random\n",
    "\n",
    "random.seed(42)\n"
   ]
  },
  {
   "attachments": {},
   "cell_type": "markdown",
   "metadata": {},
   "source": [
    "## Data Processing"
   ]
  },
  {
   "cell_type": "code",
   "execution_count": 196,
   "metadata": {},
   "outputs": [],
   "source": [
    "CHARS = sorted(\n",
    "    \"ABCDEFGHIJKLMNOPQRSTUVWXYZabcdefghijklmnopqrstuvwxyz0123456789,.:;'\\\"-!?\"\n",
    ")\n",
    "DATA_DIR = \"data\"\n",
    "LINES_TXT = os.path.join(DATA_DIR, \"lines.txt\")\n",
    "CHARS_TXT = os.path.join(DATA_DIR, \"chars.txt\")\n"
   ]
  },
  {
   "attachments": {},
   "cell_type": "markdown",
   "metadata": {},
   "source": [
    "1. Build char:image dictionary"
   ]
  },
  {
   "cell_type": "code",
   "execution_count": 197,
   "metadata": {},
   "outputs": [],
   "source": [
    "def gen_char_to_id_map(file_path):\n",
    "    char_to_id = {}\n",
    "\n",
    "    with open(file_path, \"r\") as file:\n",
    "        for line in file:\n",
    "            # Skip comment lines\n",
    "            if line.startswith(\"#\"):\n",
    "                continue\n",
    "\n",
    "            # Parse line\n",
    "            parts = line.strip().split(\" \")\n",
    "\n",
    "            line_id = parts[0]\n",
    "            res = parts[1]\n",
    "            graylevel = int(parts[2])\n",
    "            transcription = parts[-1]\n",
    "\n",
    "            if res == \"err\":\n",
    "                continue\n",
    "\n",
    "            # Map characters in transcription to line_id\n",
    "            for char in transcription:\n",
    "                if char in CHARS:\n",
    "                    freq = transcription.count(char)\n",
    "                    entry = (line_id, graylevel, freq)\n",
    "                    if char in char_to_id:\n",
    "                        char_to_id[char].append(entry)\n",
    "                    else:\n",
    "                        char_to_id[char] = [entry]\n",
    "\n",
    "    return char_to_id\n"
   ]
  },
  {
   "cell_type": "code",
   "execution_count": 198,
   "metadata": {},
   "outputs": [],
   "source": [
    "char_to_id = gen_char_to_id_map(LINES_TXT)\n"
   ]
  },
  {
   "attachments": {},
   "cell_type": "markdown",
   "metadata": {},
   "source": [
    "2. Select lines and store char images"
   ]
  },
  {
   "cell_type": "code",
   "execution_count": 199,
   "metadata": {},
   "outputs": [],
   "source": [
    "def get_dir(file_name):\n",
    "    dirs = file_name.split(\"-\")\n",
    "    return os.path.join(*dirs)\n",
    "\n",
    "\n",
    "def get_char_entries(char, line_entry):  # helper\n",
    "    res = []\n",
    "    freq = line_entry[2]\n",
    "    for iter in range(1, freq + 1):\n",
    "        char_id = char + \"-\" + str(iter).zfill(2)\n",
    "        line_id = line_entry[0]\n",
    "        graylevel = line_entry[1]\n",
    "        res.append((char_id, line_id, graylevel))\n",
    "    return res\n",
    "\n",
    "\n",
    "def entry2str(entry):\n",
    "    str = \"\"\n",
    "    for info in entry:\n",
    "        str += f\"{info} \"\n",
    "    return str\n"
   ]
  },
  {
   "cell_type": "code",
   "execution_count": 200,
   "metadata": {},
   "outputs": [],
   "source": [
    "with open(CHARS_TXT, \"r\") as file:\n",
    "    lines = file.readlines()\n",
    "\n",
    "# Keep the header lines\n",
    "header_lines = [line for line in lines if line.startswith(\"#\")]\n",
    "\n",
    "# Replace the content below the header with the new content\n",
    "with open(CHARS_TXT, \"w\") as file:\n",
    "    file.writelines(header_lines)\n",
    "\n",
    "    for char, line_entries in sorted(char_to_id.items()):\n",
    "        if not line_entries:\n",
    "            print(f\"{char} is not included in any lines\")\n",
    "            continue\n",
    "\n",
    "        sampled_line_entry = random.choice(line_entries)  # finalize num\n",
    "        for char_entry in get_char_entries(char, sampled_line_entry):\n",
    "            file.write(entry2str(char_entry) + \"\\n\")\n",
    "            # TODO: copy original line image to char folder\n",
    "            # scale and binerize image\n",
    "            # horizontally crop char\n"
   ]
  },
  {
   "attachments": {},
   "cell_type": "markdown",
   "metadata": {},
   "source": [
    "## Generate Handwriting"
   ]
  },
  {
   "cell_type": "code",
   "execution_count": 201,
   "metadata": {},
   "outputs": [],
   "source": [
    "def concatenate_images(images):\n",
    "    pass\n",
    "\n",
    "\n",
    "def get_image(char_entry):\n",
    "    pass\n",
    "\n",
    "\n",
    "def string_to_image(string):\n",
    "    pass\n"
   ]
  },
  {
   "cell_type": "code",
   "execution_count": 202,
   "metadata": {},
   "outputs": [],
   "source": [
    "# Display generated text\n"
   ]
  }
 ],
 "metadata": {
  "kernelspec": {
   "display_name": "AnacondaPyCharm3_10",
   "language": "python",
   "name": "python3"
  },
  "language_info": {
   "codemirror_mode": {
    "name": "ipython",
    "version": 3
   },
   "file_extension": ".py",
   "mimetype": "text/x-python",
   "name": "python",
   "nbconvert_exporter": "python",
   "pygments_lexer": "ipython3",
   "version": "3.11.1"
  },
  "orig_nbformat": 4
 },
 "nbformat": 4,
 "nbformat_minor": 2
}
